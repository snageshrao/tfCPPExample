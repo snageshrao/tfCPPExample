{
 "cells": [
  {
   "cell_type": "code",
   "execution_count": 1,
   "metadata": {
    "collapsed": false
   },
   "outputs": [
    {
     "name": "stdout",
     "output_type": "stream",
     "text": [
      "Tensor(\"a:0\", dtype=float32)\n",
      "Tensor(\"b:0\", dtype=float32)\n",
      "Tensor(\"c:0\", dtype=float32)\n"
     ]
    }
   ],
   "source": [
    "import tensorflow as tf\n",
    "import numpy as np\n",
    "import os\n",
    "from tensorflow.python.tools import freeze_graph\n",
    "\n",
    "sess = tf.Session()\n",
    "a = tf.placeholder(tf.float32,name=\"a\")\n",
    "b = tf.placeholder(tf.float32, name='b')\n",
    "c = tf.multiply(a, b, name=\"c\")\n",
    "\n",
    "tf.add_to_collection(\"a\", a)\n",
    "tf.add_to_collection(\"b\", b)\n",
    "tf.add_to_collection(\"c\", c)\n",
    "\n",
    "sess.run(tf.global_variables_initializer())\n",
    "\n",
    "feed = {a:4.0,b:3.0}\n",
    "sess.run(c,feed)"
   ]
  },
  {
   "cell_type": "code",
   "execution_count": 2,
   "metadata": {
    "collapsed": false
   },
   "outputs": [
    {
     "data": {
      "text/plain": [
       "<tensorflow.python.framework.ops.Graph at 0x4e33048>"
      ]
     },
     "execution_count": 2,
     "metadata": {},
     "output_type": "execute_result"
    }
   ],
   "source": [
    "model_dir = '/TFprocEx'\n",
    "input_graph_name = \"input_graph.pb\"\n",
    "tf.train.write_graph(sess.graph_def, model_dir, input_graph_name,as_text=False)"
   ]
  }
 ],
 "metadata": {
  "kernelspec": {
   "display_name": "Python [default]",
   "language": "python",
   "name": "python3"
  },
  "language_info": {
   "codemirror_mode": {
    "name": "ipython",
    "version": 3
   },
   "file_extension": ".py",
   "mimetype": "text/x-python",
   "name": "python",
   "nbconvert_exporter": "python",
   "pygments_lexer": "ipython3",
   "version": "3.5.2"
  }
 },
 "nbformat": 4,
 "nbformat_minor": 1
}
